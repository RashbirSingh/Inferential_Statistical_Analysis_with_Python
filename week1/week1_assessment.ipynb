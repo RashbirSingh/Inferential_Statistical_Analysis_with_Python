{
 "cells": [
  {
   "cell_type": "markdown",
   "metadata": {
    "colab_type": "text",
    "id": "J5p3JZwvGQEe"
   },
   "source": [
    "You will use the values of what you find in this assignment to answer questions in the quiz that follows. You may want to open this notebook to be displayed side-by-side on screen with this next quiz."
   ]
  },
  {
   "cell_type": "markdown",
   "metadata": {
    "colab_type": "text",
    "id": "20Hp_V-eFzbI"
   },
   "source": [
    "1. Write a function that inputs an integers and returns the negative"
   ]
  },
  {
   "cell_type": "code",
   "execution_count": 1,
   "metadata": {
    "colab": {},
    "colab_type": "code",
    "id": "tFPbRKR4FzbL"
   },
   "outputs": [],
   "source": [
    "# Write your function here\n",
    "def some_function(Int_input):\n",
    "    return -Int_input"
   ]
  },
  {
   "cell_type": "code",
   "execution_count": 2,
   "metadata": {
    "colab": {},
    "colab_type": "code",
    "id": "jW5MfUUnFzbQ"
   },
   "outputs": [
    {
     "name": "stdout",
     "output_type": "stream",
     "text": [
      "-4\n"
     ]
    }
   ],
   "source": [
    "# Test your function with input x\n",
    "x = 4\n",
    "Output = some_function(x)\n",
    "print(Output)"
   ]
  },
  {
   "cell_type": "markdown",
   "metadata": {
    "colab_type": "text",
    "id": "f6kLOf6_FzbU"
   },
   "source": [
    "2. Write a function that inputs a list of integers and returns the minimum value"
   ]
  },
  {
   "cell_type": "code",
   "execution_count": 3,
   "metadata": {
    "colab": {},
    "colab_type": "code",
    "id": "IHV-wS_hFzbW"
   },
   "outputs": [],
   "source": [
    "# Write your function here\n",
    "def ListFun(lst):\n",
    "    return min(lst)"
   ]
  },
  {
   "cell_type": "code",
   "execution_count": 6,
   "metadata": {
    "colab": {},
    "colab_type": "code",
    "id": "EfvSeoaOFzba"
   },
   "outputs": [
    {
     "name": "stdout",
     "output_type": "stream",
     "text": [
      "-3\n",
      "-234\n"
     ]
    }
   ],
   "source": [
    "# Test your function with input lst\n",
    "lst = [-3, 0, 2, 100, -1, 2]\n",
    "print(ListFun(lst))\n",
    "\n",
    "# Create you own input list to test with\n",
    "my_lst = [324,-234,284,34975,0,-23,34978,-213]\n",
    "print(ListFun(my_lst))"
   ]
  },
  {
   "cell_type": "markdown",
   "metadata": {
    "colab_type": "text",
    "id": "-yjvHCDuFzbd"
   },
   "source": [
    "#### Challenge problem:  \n",
    "Write a function that take in four arguments: lst1, lst2, str1, str2, and returns a pandas DataFrame that has the first column labeled str1 and the second column labaled str2, that have values lst1 and lst2 scaled to be between 0 and 1.\n",
    "\n",
    "For example\n",
    "```\n",
    "lst1 = [1, 2, 3]\n",
    "lst2 = [2, 4, 5]\n",
    "str1 = 'one'\n",
    "str2 = 'two'\n",
    "\n",
    "my_function(lst1, lst2, str1, str2)\n",
    "``` \n",
    "should return a DataFrame that looks like:\n",
    "\n",
    "\n",
    "\n",
    "|  <i></i> | one | two |\n",
    "| --- | --- | --- |\n",
    "| 0 | 0 | 0 |\n",
    "| 1 | .5 | .666 |\n",
    "| 2 | 1 | 1 |\n",
    "\n"
   ]
  },
  {
   "cell_type": "code",
   "execution_count": 15,
   "metadata": {
    "colab": {},
    "colab_type": "code",
    "id": "UhTlOZX1Fzbf"
   },
   "outputs": [],
   "source": [
    "import pandas as pd\n",
    "def Challenge(lst1, lst2, str1, str2):\n",
    "    df = pd.DataFrame({str1:lst1, str2:lst2})\n",
    "    return df"
   ]
  },
  {
   "cell_type": "code",
   "execution_count": 12,
   "metadata": {
    "colab": {},
    "colab_type": "code",
    "id": "0yABet-jFzbi"
   },
   "outputs": [],
   "source": [
    "# test your challenge problem function\n",
    "import numpy as np\n",
    "\n",
    "lst1 = np.random.randint(-234, 938, 100)\n",
    "lst2 = np.random.randint(-522, 123, 100)\n",
    "str1 = 'one'\n",
    "str2 = 'alpha'"
   ]
  },
  {
   "cell_type": "code",
   "execution_count": 16,
   "metadata": {},
   "outputs": [
    {
     "name": "stdout",
     "output_type": "stream",
     "text": [
      "    one  alpha\n",
      "0   795    -52\n",
      "1   637   -241\n",
      "2   665    -46\n",
      "3   655   -104\n",
      "4   417   -486\n",
      "5   497     57\n",
      "6   773   -370\n",
      "7   824   -128\n",
      "8   111   -170\n",
      "9   479    102\n",
      "10 -103   -450\n",
      "11  439   -385\n",
      "12  151   -266\n",
      "13  621   -104\n",
      "14  582     41\n",
      "15 -116   -431\n",
      "16  -94    -24\n",
      "17  332   -239\n",
      "18  184   -262\n",
      "19  232      4\n",
      "20  344   -349\n",
      "21  634    -35\n",
      "22  920   -107\n",
      "23 -117   -275\n",
      "24  871   -380\n",
      "25  828   -252\n",
      "26  371   -496\n",
      "27  893   -224\n",
      "28  687   -103\n",
      "29  734   -223\n",
      "..  ...    ...\n",
      "70  355   -194\n",
      "71  743   -142\n",
      "72  464    -73\n",
      "73  536   -219\n",
      "74  323    -21\n",
      "75  714     36\n",
      "76  -84    -37\n",
      "77 -111   -180\n",
      "78 -155   -143\n",
      "79  702     54\n",
      "80 -125     67\n",
      "81 -180    -35\n",
      "82  339   -119\n",
      "83  325   -368\n",
      "84  127   -488\n",
      "85  116    -78\n",
      "86  265   -190\n",
      "87  138   -315\n",
      "88  763   -123\n",
      "89  754   -286\n",
      "90  595     61\n",
      "91  769    -49\n",
      "92 -228   -501\n",
      "93   76   -110\n",
      "94  811      8\n",
      "95  149   -415\n",
      "96  850    -60\n",
      "97  258     25\n",
      "98  774   -426\n",
      "99  393   -440\n",
      "\n",
      "[100 rows x 2 columns]\n"
     ]
    }
   ],
   "source": [
    "print(Challenge(lst1, lst2, str1, str2))"
   ]
  },
  {
   "cell_type": "code",
   "execution_count": null,
   "metadata": {},
   "outputs": [],
   "source": []
  }
 ],
 "metadata": {
  "colab": {
   "collapsed_sections": [],
   "name": "week1_assessment.ipynb",
   "provenance": [],
   "version": "0.3.2"
  },
  "kernelspec": {
   "display_name": "Python 3",
   "language": "python",
   "name": "python3"
  },
  "language_info": {
   "codemirror_mode": {
    "name": "ipython",
    "version": 3
   },
   "file_extension": ".py",
   "mimetype": "text/x-python",
   "name": "python",
   "nbconvert_exporter": "python",
   "pygments_lexer": "ipython3",
   "version": "3.6.3"
  }
 },
 "nbformat": 4,
 "nbformat_minor": 1
}
