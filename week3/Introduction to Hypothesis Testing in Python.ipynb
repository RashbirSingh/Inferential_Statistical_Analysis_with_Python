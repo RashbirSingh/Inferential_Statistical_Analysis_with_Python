{
 "cells": [
  {
   "cell_type": "markdown",
   "metadata": {},
   "source": [
    "# Hypothesis Testing\n",
    "\n",
    "From lecture, we know that hypothesis testing is a critical tool in determing what the value of a parameter could be.\n",
    "\n",
    "We know that the basis of our testing has two attributes:\n",
    "\n",
    "**Null Hypothesis: $H_0$**\n",
    "\n",
    "**Alternative Hypothesis: $H_a$**\n",
    "\n",
    "The tests we have discussed in lecture are:\n",
    "\n",
    "* One Population Proportion\n",
    "* Difference in Population Proportions\n",
    "* One Population Mean\n",
    "* Difference in Population Means\n",
    "\n",
    "In this tutorial, I will introduce some functions that are extremely useful when calculating a t-statistic and p-value for a hypothesis test.\n",
    "\n",
    "Let's quickly review the following ways to calculate a test statistic for the tests listed above.\n",
    "\n",
    "The equation is:\n",
    "\n",
    "$$\\frac{Best\\ Estimate - Hypothesized\\ Estimate}{Standard\\ Error\\ of\\ Estimate}$$ \n",
    "\n",
    "We will use the examples from our lectures and use python functions to streamline our tests."
   ]
  },
  {
   "cell_type": "code",
   "execution_count": 2,
   "metadata": {},
   "outputs": [],
   "source": [
    "import statsmodels.api as sm\n",
    "import numpy as np\n",
    "import pandas as pd"
   ]
  },
  {
   "cell_type": "markdown",
   "metadata": {},
   "source": [
    "### One Population Proportion\n",
    "\n",
    "#### Research Question \n",
    "\n",
    "In previous years 52% of parents believed that electronics and social media was the cause of their teenager’s lack of sleep. Do more parents today believe that their teenager’s lack of sleep is caused due to electronics and social media? \n",
    "\n",
    "**Population**: Parents with a teenager (age 13-18)  \n",
    "**Parameter of Interest**: p  \n",
    "**Null Hypothesis:** p = 0.52  \n",
    "**Alternative Hypthosis:** p > 0.52  \n",
    "\n",
    "1018 Parents\n",
    "\n",
    "56% believe that their teenager’s lack of sleep is caused due to electronics and social media."
   ]
  },
  {
   "cell_type": "code",
   "execution_count": 19,
   "metadata": {},
   "outputs": [
    {
     "name": "stdout",
     "output_type": "stream",
     "text": [
      "Help on function proportions_ztest in module statsmodels.stats.proportion:\n",
      "\n",
      "proportions_ztest(count, nobs, value=None, alternative='two-sided', prop_var=False)\n",
      "    Test for proportions based on normal (z) test\n",
      "    \n",
      "    Parameters\n",
      "    ----------\n",
      "    count : integer or array_like\n",
      "        the number of successes in nobs trials. If this is array_like, then\n",
      "        the assumption is that this represents the number of successes for\n",
      "        each independent sample\n",
      "    nobs : integer or array-like\n",
      "        the number of trials or observations, with the same length as\n",
      "        count.\n",
      "    value : float, array_like or None, optional\n",
      "        This is the value of the null hypothesis equal to the proportion in the\n",
      "        case of a one sample test. In the case of a two-sample test, the\n",
      "        null hypothesis is that prop[0] - prop[1] = value, where prop is the\n",
      "        proportion in the two samples. If not provided value = 0 and the null\n",
      "        is prop[0] = prop[1]\n",
      "    alternative : string in ['two-sided', 'smaller', 'larger']\n",
      "        The alternative hypothesis can be either two-sided or one of the one-\n",
      "        sided tests, smaller means that the alternative hypothesis is\n",
      "        ``prop < value`` and larger means ``prop > value``. In the two sample\n",
      "        test, smaller means that the alternative hypothesis is ``p1 < p2`` and\n",
      "        larger means ``p1 > p2`` where ``p1`` is the proportion of the first\n",
      "        sample and ``p2`` of the second one.\n",
      "    prop_var : False or float in (0, 1)\n",
      "        If prop_var is false, then the variance of the proportion estimate is\n",
      "        calculated based on the sample proportion. Alternatively, a proportion\n",
      "        can be specified to calculate this variance. Common use case is to\n",
      "        use the proportion under the Null hypothesis to specify the variance\n",
      "        of the proportion estimate.\n",
      "    \n",
      "    Returns\n",
      "    -------\n",
      "    zstat : float\n",
      "        test statistic for the z-test\n",
      "    p-value : float\n",
      "        p-value for the z-test\n",
      "    \n",
      "    Examples\n",
      "    --------\n",
      "    >>> count = 5\n",
      "    >>> nobs = 83\n",
      "    >>> value = .05\n",
      "    >>> stat, pval = proportions_ztest(count, nobs, value)\n",
      "    >>> print('{0:0.3f}'.format(pval))\n",
      "    0.695\n",
      "    \n",
      "    >>> import numpy as np\n",
      "    >>> from statsmodels.stats.proportion import proportions_ztest\n",
      "    >>> count = np.array([5, 12])\n",
      "    >>> nobs = np.array([83, 99])\n",
      "    >>> stat, pval = proportions_ztest(counts, nobs)\n",
      "    >>> print('{0:0.3f}'.format(pval))\n",
      "    0.159\n",
      "    \n",
      "    Notes\n",
      "    -----\n",
      "    This uses a simple normal test for proportions. It should be the same as\n",
      "    running the mean z-test on the data encoded 1 for event and 0 for no event\n",
      "    so that the sum corresponds to the count.\n",
      "    \n",
      "    In the one and two sample cases with two-sided alternative, this test\n",
      "    produces the same p-value as ``proportions_chisquare``, since the\n",
      "    chisquare is the distribution of the square of a standard normal\n",
      "    distribution.\n",
      "\n"
     ]
    }
   ],
   "source": [
    "help(sm.stats.proportions_ztest)"
   ]
  },
  {
   "cell_type": "code",
   "execution_count": 3,
   "metadata": {},
   "outputs": [
    {
     "data": {
      "text/plain": [
       "(2.571067795759113, 0.010138547731721065)"
      ]
     },
     "execution_count": 3,
     "metadata": {},
     "output_type": "execute_result"
    }
   ],
   "source": [
    "n = 1018\n",
    "pnull = .52\n",
    "phat = .56\n",
    "sm.stats.proportions_ztest(phat * n, n, pnull)"
   ]
  },
  {
   "cell_type": "markdown",
   "metadata": {},
   "source": [
    "### Difference in Population Proportions\n",
    "\n",
    "#### Research Question\n",
    "\n",
    "Is there a significant difference between the population proportions of parents of black children and parents of Hispanic children who report that their child has had some swimming lessons?\n",
    "\n",
    "**Populations**: All parents of black children age 6-18 and all parents of Hispanic children age 6-18  \n",
    "**Parameter of Interest**: p1 - p2, where p1 = black and p2 = hispanic  \n",
    "**Null Hypothesis:** p1 - p2 = 0  \n",
    "**Alternative Hypthosis:** p1 - p2 $\\neq$ 0  \n",
    "\n",
    "247 Parents of Black Children\n",
    "36.8% of parents report that their child has had some swimming lessons.\n",
    "\n",
    "308 Parents of Hispanic Children\n",
    "38.9% of parents report that their child has had some swimming lessons."
   ]
  },
  {
   "cell_type": "code",
   "execution_count": 10,
   "metadata": {},
   "outputs": [
    {
     "name": "stdout",
     "output_type": "stream",
     "text": [
      "Help on function ttest_ind in module statsmodels.stats.weightstats:\n",
      "\n",
      "ttest_ind(x1, x2, alternative='two-sided', usevar='pooled', weights=(None, None), value=0)\n",
      "    ttest independent sample\n",
      "    \n",
      "    convenience function that uses the classes and throws away the intermediate\n",
      "    results,\n",
      "    compared to scipy stats: drops axis option, adds alternative, usevar, and\n",
      "    weights option\n",
      "    \n",
      "    Parameters\n",
      "    ----------\n",
      "    x1, x2 : array_like, 1-D or 2-D\n",
      "        two independent samples, see notes for 2-D case\n",
      "    alternative : string\n",
      "        The alternative hypothesis, H1, has to be one of the following\n",
      "    \n",
      "           'two-sided': H1: difference in means not equal to value (default)\n",
      "           'larger' :   H1: difference in means larger than value\n",
      "           'smaller' :  H1: difference in means smaller than value\n",
      "    \n",
      "    usevar : string, 'pooled' or 'unequal'\n",
      "        If ``pooled``, then the standard deviation of the samples is assumed to be\n",
      "        the same. If ``unequal``, then Welsh ttest with Satterthwait degrees\n",
      "        of freedom is used\n",
      "    weights : tuple of None or ndarrays\n",
      "        Case weights for the two samples. For details on weights see\n",
      "        ``DescrStatsW``\n",
      "    value : float\n",
      "        difference between the means under the Null hypothesis.\n",
      "    \n",
      "    \n",
      "    Returns\n",
      "    -------\n",
      "    tstat : float\n",
      "        test statisic\n",
      "    pvalue : float\n",
      "        pvalue of the t-test\n",
      "    df : int or float\n",
      "        degrees of freedom used in the t-test\n",
      "\n"
     ]
    }
   ],
   "source": [
    "help(sm.stats.ttest_ind)"
   ]
  },
  {
   "cell_type": "code",
   "execution_count": 16,
   "metadata": {},
   "outputs": [
    {
     "data": {
      "text/plain": [
       "(-2.0991623607917154, 0.036255317313484935, 553.0)"
      ]
     },
     "execution_count": 16,
     "metadata": {},
     "output_type": "execute_result"
    }
   ],
   "source": [
    "n1 = 247\n",
    "p1 = .37\n",
    "\n",
    "n2 = 308\n",
    "p2 = .39\n",
    "\n",
    "population1 = np.random.binomial(1, p1, n1)\n",
    "population2 = np.random.binomial(1, p2, n2)\n",
    "\n",
    "sm.stats.ttest_ind(population1, population2)"
   ]
  },
  {
   "cell_type": "markdown",
   "metadata": {},
   "source": [
    "### One Population Mean\n",
    "\n",
    "#### Research Question \n",
    "\n",
    "Is the average cartwheel distance (in inches) for adults \n",
    "more than 80 inches?\n",
    "\n",
    "**Population**: All adults  \n",
    "**Parameter of Interest**: $\\mu$, population mean cartwheel distance.\n",
    "**Null Hypothesis:** $\\mu$ = 80\n",
    "**Alternative Hypthosis:** $\\mu$ > 80\n",
    "\n",
    "25 Adults\n",
    "\n",
    "$\\mu = 82.46$\n",
    "\n",
    "$\\sigma = 15.06$"
   ]
  },
  {
   "cell_type": "code",
   "execution_count": 8,
   "metadata": {},
   "outputs": [
    {
     "data": {
      "text/html": [
       "<div>\n",
       "<style scoped>\n",
       "    .dataframe tbody tr th:only-of-type {\n",
       "        vertical-align: middle;\n",
       "    }\n",
       "\n",
       "    .dataframe tbody tr th {\n",
       "        vertical-align: top;\n",
       "    }\n",
       "\n",
       "    .dataframe thead th {\n",
       "        text-align: right;\n",
       "    }\n",
       "</style>\n",
       "<table border=\"1\" class=\"dataframe\">\n",
       "  <thead>\n",
       "    <tr style=\"text-align: right;\">\n",
       "      <th></th>\n",
       "      <th>ID</th>\n",
       "      <th>Age</th>\n",
       "      <th>Gender</th>\n",
       "      <th>GenderGroup</th>\n",
       "      <th>Glasses</th>\n",
       "      <th>GlassesGroup</th>\n",
       "      <th>Height</th>\n",
       "      <th>Wingspan</th>\n",
       "      <th>CWDistance</th>\n",
       "      <th>Complete</th>\n",
       "      <th>CompleteGroup</th>\n",
       "      <th>Score</th>\n",
       "    </tr>\n",
       "  </thead>\n",
       "  <tbody>\n",
       "    <tr>\n",
       "      <th>0</th>\n",
       "      <td>1</td>\n",
       "      <td>56</td>\n",
       "      <td>F</td>\n",
       "      <td>1</td>\n",
       "      <td>Y</td>\n",
       "      <td>1</td>\n",
       "      <td>62.0</td>\n",
       "      <td>61.0</td>\n",
       "      <td>79</td>\n",
       "      <td>Y</td>\n",
       "      <td>1</td>\n",
       "      <td>7</td>\n",
       "    </tr>\n",
       "    <tr>\n",
       "      <th>1</th>\n",
       "      <td>2</td>\n",
       "      <td>26</td>\n",
       "      <td>F</td>\n",
       "      <td>1</td>\n",
       "      <td>Y</td>\n",
       "      <td>1</td>\n",
       "      <td>62.0</td>\n",
       "      <td>60.0</td>\n",
       "      <td>70</td>\n",
       "      <td>Y</td>\n",
       "      <td>1</td>\n",
       "      <td>8</td>\n",
       "    </tr>\n",
       "    <tr>\n",
       "      <th>2</th>\n",
       "      <td>3</td>\n",
       "      <td>33</td>\n",
       "      <td>F</td>\n",
       "      <td>1</td>\n",
       "      <td>Y</td>\n",
       "      <td>1</td>\n",
       "      <td>66.0</td>\n",
       "      <td>64.0</td>\n",
       "      <td>85</td>\n",
       "      <td>Y</td>\n",
       "      <td>1</td>\n",
       "      <td>7</td>\n",
       "    </tr>\n",
       "    <tr>\n",
       "      <th>3</th>\n",
       "      <td>4</td>\n",
       "      <td>39</td>\n",
       "      <td>F</td>\n",
       "      <td>1</td>\n",
       "      <td>N</td>\n",
       "      <td>0</td>\n",
       "      <td>64.0</td>\n",
       "      <td>63.0</td>\n",
       "      <td>87</td>\n",
       "      <td>Y</td>\n",
       "      <td>1</td>\n",
       "      <td>10</td>\n",
       "    </tr>\n",
       "    <tr>\n",
       "      <th>4</th>\n",
       "      <td>5</td>\n",
       "      <td>27</td>\n",
       "      <td>M</td>\n",
       "      <td>2</td>\n",
       "      <td>N</td>\n",
       "      <td>0</td>\n",
       "      <td>73.0</td>\n",
       "      <td>75.0</td>\n",
       "      <td>72</td>\n",
       "      <td>N</td>\n",
       "      <td>0</td>\n",
       "      <td>4</td>\n",
       "    </tr>\n",
       "  </tbody>\n",
       "</table>\n",
       "</div>"
      ],
      "text/plain": [
       "   ID  Age Gender  GenderGroup Glasses  GlassesGroup  Height  Wingspan  \\\n",
       "0   1   56      F            1       Y             1    62.0      61.0   \n",
       "1   2   26      F            1       Y             1    62.0      60.0   \n",
       "2   3   33      F            1       Y             1    66.0      64.0   \n",
       "3   4   39      F            1       N             0    64.0      63.0   \n",
       "4   5   27      M            2       N             0    73.0      75.0   \n",
       "\n",
       "   CWDistance Complete  CompleteGroup  Score  \n",
       "0          79        Y              1      7  \n",
       "1          70        Y              1      8  \n",
       "2          85        Y              1      7  \n",
       "3          87        Y              1     10  \n",
       "4          72        N              0      4  "
      ]
     },
     "execution_count": 8,
     "metadata": {},
     "output_type": "execute_result"
    }
   ],
   "source": [
    "df = pd.read_csv(\"Cartwheeldata.csv\")\n",
    "df.head()"
   ]
  },
  {
   "cell_type": "code",
   "execution_count": 9,
   "metadata": {},
   "outputs": [
    {
     "data": {
      "text/plain": [
       "(25, 82.48, 15.058552387264852)"
      ]
     },
     "execution_count": 9,
     "metadata": {},
     "output_type": "execute_result"
    }
   ],
   "source": [
    "n = len(df)\n",
    "mean = df[\"CWDistance\"].mean()\n",
    "sd = df[\"CWDistance\"].std()\n",
    "(n, mean, sd)"
   ]
  },
  {
   "cell_type": "code",
   "execution_count": 21,
   "metadata": {},
   "outputs": [
    {
     "name": "stdout",
     "output_type": "stream",
     "text": [
      "Help on function proportions_ztest in module statsmodels.stats.proportion:\n",
      "\n",
      "proportions_ztest(count, nobs, value=None, alternative='two-sided', prop_var=False)\n",
      "    Test for proportions based on normal (z) test\n",
      "    \n",
      "    Parameters\n",
      "    ----------\n",
      "    count : integer or array_like\n",
      "        the number of successes in nobs trials. If this is array_like, then\n",
      "        the assumption is that this represents the number of successes for\n",
      "        each independent sample\n",
      "    nobs : integer or array-like\n",
      "        the number of trials or observations, with the same length as\n",
      "        count.\n",
      "    value : float, array_like or None, optional\n",
      "        This is the value of the null hypothesis equal to the proportion in the\n",
      "        case of a one sample test. In the case of a two-sample test, the\n",
      "        null hypothesis is that prop[0] - prop[1] = value, where prop is the\n",
      "        proportion in the two samples. If not provided value = 0 and the null\n",
      "        is prop[0] = prop[1]\n",
      "    alternative : string in ['two-sided', 'smaller', 'larger']\n",
      "        The alternative hypothesis can be either two-sided or one of the one-\n",
      "        sided tests, smaller means that the alternative hypothesis is\n",
      "        ``prop < value`` and larger means ``prop > value``. In the two sample\n",
      "        test, smaller means that the alternative hypothesis is ``p1 < p2`` and\n",
      "        larger means ``p1 > p2`` where ``p1`` is the proportion of the first\n",
      "        sample and ``p2`` of the second one.\n",
      "    prop_var : False or float in (0, 1)\n",
      "        If prop_var is false, then the variance of the proportion estimate is\n",
      "        calculated based on the sample proportion. Alternatively, a proportion\n",
      "        can be specified to calculate this variance. Common use case is to\n",
      "        use the proportion under the Null hypothesis to specify the variance\n",
      "        of the proportion estimate.\n",
      "    \n",
      "    Returns\n",
      "    -------\n",
      "    zstat : float\n",
      "        test statistic for the z-test\n",
      "    p-value : float\n",
      "        p-value for the z-test\n",
      "    \n",
      "    Examples\n",
      "    --------\n",
      "    >>> count = 5\n",
      "    >>> nobs = 83\n",
      "    >>> value = .05\n",
      "    >>> stat, pval = proportions_ztest(count, nobs, value)\n",
      "    >>> print('{0:0.3f}'.format(pval))\n",
      "    0.695\n",
      "    \n",
      "    >>> import numpy as np\n",
      "    >>> from statsmodels.stats.proportion import proportions_ztest\n",
      "    >>> count = np.array([5, 12])\n",
      "    >>> nobs = np.array([83, 99])\n",
      "    >>> stat, pval = proportions_ztest(counts, nobs)\n",
      "    >>> print('{0:0.3f}'.format(pval))\n",
      "    0.159\n",
      "    \n",
      "    Notes\n",
      "    -----\n",
      "    This uses a simple normal test for proportions. It should be the same as\n",
      "    running the mean z-test on the data encoded 1 for event and 0 for no event\n",
      "    so that the sum corresponds to the count.\n",
      "    \n",
      "    In the one and two sample cases with two-sided alternative, this test\n",
      "    produces the same p-value as ``proportions_chisquare``, since the\n",
      "    chisquare is the distribution of the square of a standard normal\n",
      "    distribution.\n",
      "\n"
     ]
    }
   ],
   "source": [
    "help(sm.stats.proportions_ztest)"
   ]
  },
  {
   "cell_type": "code",
   "execution_count": 17,
   "metadata": {},
   "outputs": [
    {
     "data": {
      "text/plain": [
       "(0.8234523266982029, 0.20512540845395266)"
      ]
     },
     "execution_count": 17,
     "metadata": {},
     "output_type": "execute_result"
    }
   ],
   "source": [
    "sm.stats.ztest(df[\"CWDistance\"], value = 80, alternative = \"larger\")"
   ]
  },
  {
   "cell_type": "markdown",
   "metadata": {},
   "source": [
    "### Difference in Population Means\n",
    "\n",
    "#### Research Question \n",
    "\n",
    "Considering adults in the NHANES data, do males have a significantly higher mean Body Mass Index than females?\n",
    "\n",
    "**Population**: Adults in the NHANES data.  \n",
    "**Parameter of Interest**: $\\mu_1 - \\mu_2$, Body Mass Index.  \n",
    "**Null Hypothesis:** $\\mu_1 = \\mu_2$  \n",
    "**Alternative Hypthosis:** $\\mu_1 \\neq \\mu_2$\n",
    "\n",
    "2976 Females \n",
    "$\\mu_1 = 29.94$  \n",
    "$\\sigma_1 = 7.75$  \n",
    "\n",
    "2759 Male Adults  \n",
    "$\\mu_2 = 28.78$  \n",
    "$\\sigma_2 = 6.25$  \n",
    "\n",
    "$\\mu_1 - \\mu_2 = 1.16$"
   ]
  },
  {
   "cell_type": "code",
   "execution_count": 22,
   "metadata": {},
   "outputs": [
    {
     "data": {
      "text/html": [
       "<div>\n",
       "<style scoped>\n",
       "    .dataframe tbody tr th:only-of-type {\n",
       "        vertical-align: middle;\n",
       "    }\n",
       "\n",
       "    .dataframe tbody tr th {\n",
       "        vertical-align: top;\n",
       "    }\n",
       "\n",
       "    .dataframe thead th {\n",
       "        text-align: right;\n",
       "    }\n",
       "</style>\n",
       "<table border=\"1\" class=\"dataframe\">\n",
       "  <thead>\n",
       "    <tr style=\"text-align: right;\">\n",
       "      <th></th>\n",
       "      <th>SEQN</th>\n",
       "      <th>ALQ101</th>\n",
       "      <th>ALQ110</th>\n",
       "      <th>ALQ130</th>\n",
       "      <th>SMQ020</th>\n",
       "      <th>RIAGENDR</th>\n",
       "      <th>RIDAGEYR</th>\n",
       "      <th>RIDRETH1</th>\n",
       "      <th>DMDCITZN</th>\n",
       "      <th>DMDEDUC2</th>\n",
       "      <th>...</th>\n",
       "      <th>BPXSY2</th>\n",
       "      <th>BPXDI2</th>\n",
       "      <th>BMXWT</th>\n",
       "      <th>BMXHT</th>\n",
       "      <th>BMXBMI</th>\n",
       "      <th>BMXLEG</th>\n",
       "      <th>BMXARML</th>\n",
       "      <th>BMXARMC</th>\n",
       "      <th>BMXWAIST</th>\n",
       "      <th>HIQ210</th>\n",
       "    </tr>\n",
       "  </thead>\n",
       "  <tbody>\n",
       "    <tr>\n",
       "      <th>0</th>\n",
       "      <td>83732</td>\n",
       "      <td>1.0</td>\n",
       "      <td>NaN</td>\n",
       "      <td>1.0</td>\n",
       "      <td>1</td>\n",
       "      <td>1</td>\n",
       "      <td>62</td>\n",
       "      <td>3</td>\n",
       "      <td>1.0</td>\n",
       "      <td>5.0</td>\n",
       "      <td>...</td>\n",
       "      <td>124.0</td>\n",
       "      <td>64.0</td>\n",
       "      <td>94.8</td>\n",
       "      <td>184.5</td>\n",
       "      <td>27.8</td>\n",
       "      <td>43.3</td>\n",
       "      <td>43.6</td>\n",
       "      <td>35.9</td>\n",
       "      <td>101.1</td>\n",
       "      <td>2.0</td>\n",
       "    </tr>\n",
       "    <tr>\n",
       "      <th>1</th>\n",
       "      <td>83733</td>\n",
       "      <td>1.0</td>\n",
       "      <td>NaN</td>\n",
       "      <td>6.0</td>\n",
       "      <td>1</td>\n",
       "      <td>1</td>\n",
       "      <td>53</td>\n",
       "      <td>3</td>\n",
       "      <td>2.0</td>\n",
       "      <td>3.0</td>\n",
       "      <td>...</td>\n",
       "      <td>140.0</td>\n",
       "      <td>88.0</td>\n",
       "      <td>90.4</td>\n",
       "      <td>171.4</td>\n",
       "      <td>30.8</td>\n",
       "      <td>38.0</td>\n",
       "      <td>40.0</td>\n",
       "      <td>33.2</td>\n",
       "      <td>107.9</td>\n",
       "      <td>NaN</td>\n",
       "    </tr>\n",
       "    <tr>\n",
       "      <th>2</th>\n",
       "      <td>83734</td>\n",
       "      <td>1.0</td>\n",
       "      <td>NaN</td>\n",
       "      <td>NaN</td>\n",
       "      <td>1</td>\n",
       "      <td>1</td>\n",
       "      <td>78</td>\n",
       "      <td>3</td>\n",
       "      <td>1.0</td>\n",
       "      <td>3.0</td>\n",
       "      <td>...</td>\n",
       "      <td>132.0</td>\n",
       "      <td>44.0</td>\n",
       "      <td>83.4</td>\n",
       "      <td>170.1</td>\n",
       "      <td>28.8</td>\n",
       "      <td>35.6</td>\n",
       "      <td>37.0</td>\n",
       "      <td>31.0</td>\n",
       "      <td>116.5</td>\n",
       "      <td>2.0</td>\n",
       "    </tr>\n",
       "    <tr>\n",
       "      <th>3</th>\n",
       "      <td>83735</td>\n",
       "      <td>2.0</td>\n",
       "      <td>1.0</td>\n",
       "      <td>1.0</td>\n",
       "      <td>2</td>\n",
       "      <td>2</td>\n",
       "      <td>56</td>\n",
       "      <td>3</td>\n",
       "      <td>1.0</td>\n",
       "      <td>5.0</td>\n",
       "      <td>...</td>\n",
       "      <td>134.0</td>\n",
       "      <td>68.0</td>\n",
       "      <td>109.8</td>\n",
       "      <td>160.9</td>\n",
       "      <td>42.4</td>\n",
       "      <td>38.5</td>\n",
       "      <td>37.7</td>\n",
       "      <td>38.3</td>\n",
       "      <td>110.1</td>\n",
       "      <td>2.0</td>\n",
       "    </tr>\n",
       "    <tr>\n",
       "      <th>4</th>\n",
       "      <td>83736</td>\n",
       "      <td>2.0</td>\n",
       "      <td>1.0</td>\n",
       "      <td>1.0</td>\n",
       "      <td>2</td>\n",
       "      <td>2</td>\n",
       "      <td>42</td>\n",
       "      <td>4</td>\n",
       "      <td>1.0</td>\n",
       "      <td>4.0</td>\n",
       "      <td>...</td>\n",
       "      <td>114.0</td>\n",
       "      <td>54.0</td>\n",
       "      <td>55.2</td>\n",
       "      <td>164.9</td>\n",
       "      <td>20.3</td>\n",
       "      <td>37.4</td>\n",
       "      <td>36.0</td>\n",
       "      <td>27.2</td>\n",
       "      <td>80.4</td>\n",
       "      <td>2.0</td>\n",
       "    </tr>\n",
       "  </tbody>\n",
       "</table>\n",
       "<p>5 rows × 28 columns</p>\n",
       "</div>"
      ],
      "text/plain": [
       "    SEQN  ALQ101  ALQ110  ALQ130  SMQ020  RIAGENDR  RIDAGEYR  RIDRETH1  \\\n",
       "0  83732     1.0     NaN     1.0       1         1        62         3   \n",
       "1  83733     1.0     NaN     6.0       1         1        53         3   \n",
       "2  83734     1.0     NaN     NaN       1         1        78         3   \n",
       "3  83735     2.0     1.0     1.0       2         2        56         3   \n",
       "4  83736     2.0     1.0     1.0       2         2        42         4   \n",
       "\n",
       "   DMDCITZN  DMDEDUC2  ...  BPXSY2  BPXDI2  BMXWT  BMXHT  BMXBMI  BMXLEG  \\\n",
       "0       1.0       5.0  ...   124.0    64.0   94.8  184.5    27.8    43.3   \n",
       "1       2.0       3.0  ...   140.0    88.0   90.4  171.4    30.8    38.0   \n",
       "2       1.0       3.0  ...   132.0    44.0   83.4  170.1    28.8    35.6   \n",
       "3       1.0       5.0  ...   134.0    68.0  109.8  160.9    42.4    38.5   \n",
       "4       1.0       4.0  ...   114.0    54.0   55.2  164.9    20.3    37.4   \n",
       "\n",
       "   BMXARML  BMXARMC  BMXWAIST  HIQ210  \n",
       "0     43.6     35.9     101.1     2.0  \n",
       "1     40.0     33.2     107.9     NaN  \n",
       "2     37.0     31.0     116.5     2.0  \n",
       "3     37.7     38.3     110.1     2.0  \n",
       "4     36.0     27.2      80.4     2.0  \n",
       "\n",
       "[5 rows x 28 columns]"
      ]
     },
     "execution_count": 22,
     "metadata": {},
     "output_type": "execute_result"
    }
   ],
   "source": [
    "url = \"nhanes_2015_2016.csv\"\n",
    "da = pd.read_csv(url)\n",
    "da.head()"
   ]
  },
  {
   "cell_type": "code",
   "execution_count": 23,
   "metadata": {},
   "outputs": [],
   "source": [
    "females = da[da[\"RIAGENDR\"] == 2]\n",
    "male = da[da[\"RIAGENDR\"] == 1]"
   ]
  },
  {
   "cell_type": "code",
   "execution_count": 24,
   "metadata": {},
   "outputs": [
    {
     "data": {
      "text/plain": [
       "(2976, 29.93994565217392, 7.753318809545674)"
      ]
     },
     "execution_count": 24,
     "metadata": {},
     "output_type": "execute_result"
    }
   ],
   "source": [
    "n1 = len(females)\n",
    "mu1 = females[\"BMXBMI\"].mean()\n",
    "sd1 = females[\"BMXBMI\"].std()\n",
    "\n",
    "(n1, mu1, sd1)"
   ]
  },
  {
   "cell_type": "code",
   "execution_count": 25,
   "metadata": {},
   "outputs": [
    {
     "data": {
      "text/plain": [
       "(2759, 28.778072111846942, 6.2525676168014614)"
      ]
     },
     "execution_count": 25,
     "metadata": {},
     "output_type": "execute_result"
    }
   ],
   "source": [
    "n2 = len(male)\n",
    "mu2 = male[\"BMXBMI\"].mean()\n",
    "sd2 = male[\"BMXBMI\"].std()\n",
    "\n",
    "(n2, mu2, sd2)"
   ]
  },
  {
   "cell_type": "code",
   "execution_count": 26,
   "metadata": {},
   "outputs": [
    {
     "data": {
      "text/plain": [
       "(6.1755933531383205, 6.591544431126401e-10)"
      ]
     },
     "execution_count": 26,
     "metadata": {},
     "output_type": "execute_result"
    }
   ],
   "source": [
    "sm.stats.ztest(females[\"BMXBMI\"].dropna(), male[\"BMXBMI\"].dropna())"
   ]
  },
  {
   "cell_type": "code",
   "execution_count": null,
   "metadata": {},
   "outputs": [],
   "source": []
  }
 ],
 "metadata": {
  "kernelspec": {
   "display_name": "Python 3",
   "language": "python",
   "name": "python3"
  },
  "language_info": {
   "codemirror_mode": {
    "name": "ipython",
    "version": 3
   },
   "file_extension": ".py",
   "mimetype": "text/x-python",
   "name": "python",
   "nbconvert_exporter": "python",
   "pygments_lexer": "ipython3",
   "version": "3.6.3"
  }
 },
 "nbformat": 4,
 "nbformat_minor": 2
}
